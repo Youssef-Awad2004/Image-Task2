{
 "cells": [
  {
   "cell_type": "code",
   "execution_count": 1,
   "metadata": {},
   "outputs": [],
   "source": [
    "import cv2\n",
    "import numpy as np\n",
    "import matplotlib.pyplot as plt\n",
    "import matplotlib.image as mpimg"
   ]
  },
  {
   "cell_type": "code",
   "execution_count": 2,
   "metadata": {},
   "outputs": [],
   "source": [
    "height, width = 6, 6\n"
   ]
  },
  {
   "cell_type": "code",
   "execution_count": 3,
   "metadata": {},
   "outputs": [],
   "source": [
    "def createRandomMatrix():\n",
    "    matrix = np.random.randint(0, 256, (height, width, 3), dtype=np.uint8)\n",
    "    return matrix"
   ]
  },
  {
   "cell_type": "code",
   "execution_count": 4,
   "metadata": {},
   "outputs": [
    {
     "data": {
      "image/png": "[encoded data removed]",
      "text/plain": [
       "<Figure size 432x288 with 1 Axes>"
      ]
     },
     "metadata": {
      "needs_background": "light"
     },
     "output_type": "display_data"
    }
   ],
   "source": [
    "matrix=createRandomMatrix()\n",
    "plt.title(\"Random Matrix\")\n",
    "plt.imshow(matrix)\n",
    "plt.axis('off')\n",
    "plt.show()\n"
   ]
  },
  {
   "cell_type": "code",
   "execution_count": 5,
   "metadata": {},
   "outputs": [],
   "source": [
    "def createBayerFilter():\n",
    "    bayer_filter = np.zeros((height, width, 3), dtype=np.uint8)\n",
    "    for i in range(height):\n",
    "        for j in range(width):\n",
    "            if (i % 2 == 0) and (j % 2 == 0):\n",
    "                bayer_filter[i, j, 1] = 255  # Green\n",
    "            elif (i % 2 == 0) and (j % 2 == 1):\n",
    "                bayer_filter[i, j, 0] = 255  # Blue\n",
    "            elif (i % 2 == 1) and (j % 2 == 0):\n",
    "                bayer_filter[i, j, 2] = 255  # Red\n",
    "            else:\n",
    "                bayer_filter[i, j, 1] = 255  # Green\n",
    "\n",
    "    return bayer_filter\n"
   ]
  },
  {
   "cell_type": "code",
   "execution_count": 6,
   "metadata": {},
   "outputs": [
    {
     "data": {
      "image/png": "[encoded data removed]",
      "text/plain": [
       "<Figure size 432x288 with 1 Axes>"
      ]
     },
     "metadata": {
      "needs_background": "light"
     },
     "output_type": "display_data"
    }
   ],
   "source": [
    "bayerFilter = createBayerFilter()\n",
    "plt.title(\"Bayer Filter\")\n",
    "plt.imshow(bayerFilter)\n",
    "plt.axis('off')\n",
    "plt.show()"
   ]
  },
  {
   "cell_type": "code",
   "execution_count": 7,
   "metadata": {},
   "outputs": [],
   "source": [
    "\n",
    "def interpolateBayer(bayer_filter,matrix):\n",
    "    height, width, _ = bayer_filter.shape\n",
    "    interpolated_image = matrix\n",
    "\n",
    "    for i in range(height):\n",
    "        for j in range(width):\n",
    "            if bayer_filter[i, j, 1] == 255:  # Green\n",
    "                interpolated_image[i, j, 1] = 255\n",
    "                if i > 0:\n",
    "                    interpolated_image[i, j, 0] = bayer_filter[i-1, j, 0]  # Blue\n",
    "                    interpolated_image[i, j, 2] = bayer_filter[i-1, j, 2]  # Red\n",
    "                elif i < height - 1:\n",
    "                    interpolated_image[i, j, 0] = bayer_filter[i+1, j, 0]  # Blue\n",
    "                    interpolated_image[i, j, 2] = bayer_filter[i+1, j, 2]  # Red\n",
    "            elif bayer_filter[i, j, 0] == 255:  # Blue\n",
    "                interpolated_image[i, j, 0] = 255\n",
    "                if j > 0:\n",
    "                    interpolated_image[i, j, 1] = bayer_filter[i, j-1, 1]  # Green\n",
    "                elif j < width - 1:\n",
    "                    interpolated_image[i, j, 1] = bayer_filter[i, j+1, 1]  # Green\n",
    "            elif bayer_filter[i, j, 2] == 255:  # Red\n",
    "                interpolated_image[i, j, 2] = 255\n",
    "                if j > 0:\n",
    "                    interpolated_image[i, j, 1] = bayer_filter[i, j-1, 1]  # Green\n",
    "                elif j < width - 1:\n",
    "                    interpolated_image[i, j, 1] = bayer_filter[i, j+1, 1]  # Green\n",
    "\n",
    "    return interpolated_image"
   ]
  },
  {
   "cell_type": "code",
   "execution_count": 8,
   "metadata": {},
   "outputs": [
    {
     "data": {
      "image/png": "[encoded data removed]",
      "text/plain": [
       "<Figure size 432x288 with 1 Axes>"
      ]
     },
     "metadata": {
      "needs_background": "light"
     },
     "output_type": "display_data"
    }
   ],
   "source": [
    "interpolated_image = interpolateBayer(bayerFilter,matrix)\n",
    "plt.title(\"Interpolated Image\")\n",
    "plt.imshow(interpolated_image)\n",
    "plt.axis('off')\n",
    "plt.show()"
   ]
  },
  {
   "cell_type": "code",
   "execution_count": 9,
   "metadata": {},
   "outputs": [],
   "source": [
    "def convertToHSV(image):\n",
    "    hsv_image = cv2.cvtColor(image, cv2.COLOR_RGB2HSV)\n",
    "    return hsv_image"
   ]
  },
  {
   "cell_type": "code",
   "execution_count": 10,
   "metadata": {},
   "outputs": [
    {
     "data": {
      "image/png": "[encoded data removed]",
      "text/plain": [
       "<Figure size 432x288 with 1 Axes>"
      ]
     },
     "metadata": {
      "needs_background": "light"
     },
     "output_type": "display_data"
    }
   ],
   "source": [
    "HSV_image = convertToHSV(interpolated_image)\n",
    "plt.title(\"HSV Image\")\n",
    "plt.imshow(HSV_image)\n",
    "plt.axis('off')\n",
    "plt.show()"
   ]
  }
 ],
 "metadata": {
  "kernelspec": {
   "display_name": "base",
   "language": "python",
   "name": "python3"
  },
  "language_info": {
   "codemirror_mode": {
    "name": "ipython",
    "version": 3
   },
   "file_extension": ".py",
   "mimetype": "text/x-python",
   "name": "python",
   "nbconvert_exporter": "python",
   "pygments_lexer": "ipython3",
   "version": "3.9.12"
  }
 },
 "nbformat": 4,
 "nbformat_minor": 2
}
